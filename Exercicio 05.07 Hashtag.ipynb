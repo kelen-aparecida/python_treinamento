{
 "cells": [
  {
   "cell_type": "code",
   "execution_count": 6,
   "id": "c25a1a6e",
   "metadata": {},
   "outputs": [
    {
     "name": "stdout",
     "output_type": "stream",
     "text": [
      "Qual é o nome do produto:? suco\n",
      "Qual é a categoria do produto:? bebidas\n",
      "Qual é a quantidade atual do produto:? 90\n"
     ]
    }
   ],
   "source": [
    "#Exercicio 05.07 desenvolvido na aula de Python da Hashtag\n",
    "#Retornar uma mensagem caso a quantidade informada seja menor que o estoque mínimo\n",
    "#caso contrário nehuma mensagem deve ser retornada\n",
    "#Todas as informações devem ser preenchidas \n",
    "\n",
    "alimentos = 50\n",
    "bebidas = 75\n",
    "limpeza = 30\n",
    "produto = input('Qual é o nome do produto:? ')\n",
    "categoria = input('Qual é a categoria do produto:? ')\n",
    "qtde = input('Qual é a quantidade atual do produto:? ')\n",
    "\n",
    "if produto and categoria and qtde:\n",
    "    qtde == int(qtde)\n",
    "    if categoria == 'alimentos':\n",
    "        if int(alimentos) > int(qtde):\n",
    "            print('Solicitar {} à equipe de compras, temos apenas {} unidades em estoque. '.format(produto,qtde))\n",
    "    elif categoria == 'bebidas':\n",
    "        if int(bebidas) > int(qtde):\n",
    "            print('Solicitar {} à equipe de compras, temos apenas {} unidades em estoque. '.format(produto,qtde))\n",
    "    elif categoria == 'limpeza':\n",
    "        if int(limpeza) > int(qtde):\n",
    "            print('Solicitar {} à equipe de compras, temos apenas {} unidades em estoque. '.format(produto,qtde))\n",
    "else:\n",
    "    print('Preencha todas as informações!')"
   ]
  },
  {
   "cell_type": "code",
   "execution_count": null,
   "id": "a5a97119",
   "metadata": {},
   "outputs": [],
   "source": []
  }
 ],
 "metadata": {
  "kernelspec": {
   "display_name": "Python 3",
   "language": "python",
   "name": "python3"
  },
  "language_info": {
   "codemirror_mode": {
    "name": "ipython",
    "version": 3
   },
   "file_extension": ".py",
   "mimetype": "text/x-python",
   "name": "python",
   "nbconvert_exporter": "python",
   "pygments_lexer": "ipython3",
   "version": "3.8.8"
  }
 },
 "nbformat": 4,
 "nbformat_minor": 5
}
